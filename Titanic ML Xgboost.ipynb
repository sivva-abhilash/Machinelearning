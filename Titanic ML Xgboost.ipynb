{
 "cells": [
  {
   "cell_type": "code",
   "execution_count": 1,
   "metadata": {},
   "outputs": [
    {
     "name": "stderr",
     "output_type": "stream",
     "text": [
      "C:\\Users\\sabhila1\\AppData\\Local\\Continuum\\anaconda3\\lib\\site-packages\\sklearn\\cross_validation.py:41: DeprecationWarning: This module was deprecated in version 0.18 in favor of the model_selection module into which all the refactored classes and functions are moved. Also note that the interface of the new CV iterators are different from that of this module. This module will be removed in 0.20.\n",
      "  \"This module will be removed in 0.20.\", DeprecationWarning)\n",
      "C:\\Users\\sabhila1\\AppData\\Local\\Continuum\\anaconda3\\lib\\site-packages\\sklearn\\grid_search.py:42: DeprecationWarning: This module was deprecated in version 0.18 in favor of the model_selection module into which all the refactored classes and functions are moved. This module will be removed in 0.20.\n",
      "  DeprecationWarning)\n"
     ]
    }
   ],
   "source": [
    "import pandas as pd\n",
    "from sklearn.linear_model import LogisticRegression\n",
    "import numpy as np\n",
    "from sklearn.metrics import accuracy_score  \n",
    "from sklearn.tree import DecisionTreeClassifier\n",
    "from sklearn import preprocessing\n",
    "from sklearn.ensemble import RandomForestClassifier\n",
    "from sklearn import svm\n",
    "from sklearn.svm import SVC\n",
    "from sklearn.model_selection import train_test_split\n",
    "from sklearn import preprocessing\n",
    "from sklearn.ensemble import GradientBoostingClassifier\n",
    "from sklearn import cross_validation, metrics \n",
    "from sklearn import cross_validation, metrics \n",
    "from matplotlib import pyplot as plt\n",
    "from sklearn import cross_validation, metrics   \n",
    "from sklearn.grid_search import GridSearchCV \n",
    "import sklearn\n",
    "from sklearn.metrics import roc_auc_score\n",
    "from sklearn.tree import DecisionTreeRegressor"
   ]
  },
  {
   "cell_type": "code",
   "execution_count": 86,
   "metadata": {
    "scrolled": true
   },
   "outputs": [
    {
     "name": "stdout",
     "output_type": "stream",
     "text": [
      "Help on class Tree in module sklearn.tree._tree:\n",
      "\n",
      "class Tree(builtins.object)\n",
      " |  Array-based representation of a binary decision tree.\n",
      " |  \n",
      " |  The binary tree is represented as a number of parallel arrays. The i-th\n",
      " |  element of each array holds information about the node `i`. Node 0 is the\n",
      " |  tree's root. You can find a detailed description of all arrays in\n",
      " |  `_tree.pxd`. NOTE: Some of the arrays only apply to either leaves or split\n",
      " |  nodes, resp. In this case the values of nodes of the other type are\n",
      " |  arbitrary!\n",
      " |  \n",
      " |  Attributes\n",
      " |  ----------\n",
      " |  node_count : int\n",
      " |      The number of nodes (internal nodes + leaves) in the tree.\n",
      " |  \n",
      " |  capacity : int\n",
      " |      The current capacity (i.e., size) of the arrays, which is at least as\n",
      " |      great as `node_count`.\n",
      " |  \n",
      " |  max_depth : int\n",
      " |      The maximal depth of the tree.\n",
      " |  \n",
      " |  children_left : array of int, shape [node_count]\n",
      " |      children_left[i] holds the node id of the left child of node i.\n",
      " |      For leaves, children_left[i] == TREE_LEAF. Otherwise,\n",
      " |      children_left[i] > i. This child handles the case where\n",
      " |      X[:, feature[i]] <= threshold[i].\n",
      " |  \n",
      " |  children_right : array of int, shape [node_count]\n",
      " |      children_right[i] holds the node id of the right child of node i.\n",
      " |      For leaves, children_right[i] == TREE_LEAF. Otherwise,\n",
      " |      children_right[i] > i. This child handles the case where\n",
      " |      X[:, feature[i]] > threshold[i].\n",
      " |  \n",
      " |  feature : array of int, shape [node_count]\n",
      " |      feature[i] holds the feature to split on, for the internal node i.\n",
      " |  \n",
      " |  threshold : array of double, shape [node_count]\n",
      " |      threshold[i] holds the threshold for the internal node i.\n",
      " |  \n",
      " |  value : array of double, shape [node_count, n_outputs, max_n_classes]\n",
      " |      Contains the constant prediction value of each node.\n",
      " |  \n",
      " |  impurity : array of double, shape [node_count]\n",
      " |      impurity[i] holds the impurity (i.e., the value of the splitting\n",
      " |      criterion) at node i.\n",
      " |  \n",
      " |  n_node_samples : array of int, shape [node_count]\n",
      " |      n_node_samples[i] holds the number of training samples reaching node i.\n",
      " |  \n",
      " |  weighted_n_node_samples : array of int, shape [node_count]\n",
      " |      weighted_n_node_samples[i] holds the weighted number of training samples\n",
      " |      reaching node i.\n",
      " |  \n",
      " |  Methods defined here:\n",
      " |  \n",
      " |  __getstate__(...)\n",
      " |      Getstate re-implementation, for pickling.\n",
      " |  \n",
      " |  __new__(*args, **kwargs) from builtins.type\n",
      " |      Create and return a new object.  See help(type) for accurate signature.\n",
      " |  \n",
      " |  __reduce__(...)\n",
      " |      Reduce re-implementation, for pickling.\n",
      " |  \n",
      " |  __setstate__(...)\n",
      " |      Setstate re-implementation, for unpickling.\n",
      " |  \n",
      " |  apply(...)\n",
      " |      Finds the terminal region (=leaf node) for each sample in X.\n",
      " |  \n",
      " |  compute_feature_importances(...)\n",
      " |      Computes the importance of each feature (aka variable).\n",
      " |  \n",
      " |  decision_path(...)\n",
      " |      Finds the decision path (=node) for each sample in X.\n",
      " |  \n",
      " |  predict(...)\n",
      " |      Predict target for X.\n",
      " |  \n",
      " |  ----------------------------------------------------------------------\n",
      " |  Data descriptors defined here:\n",
      " |  \n",
      " |  capacity\n",
      " |  \n",
      " |  children_left\n",
      " |  \n",
      " |  children_right\n",
      " |  \n",
      " |  feature\n",
      " |  \n",
      " |  impurity\n",
      " |  \n",
      " |  max_depth\n",
      " |  \n",
      " |  max_n_classes\n",
      " |  \n",
      " |  n_classes\n",
      " |  \n",
      " |  n_features\n",
      " |  \n",
      " |  n_node_samples\n",
      " |  \n",
      " |  n_outputs\n",
      " |  \n",
      " |  node_count\n",
      " |  \n",
      " |  threshold\n",
      " |  \n",
      " |  value\n",
      " |  \n",
      " |  weighted_n_node_samples\n",
      " |  \n",
      " |  ----------------------------------------------------------------------\n",
      " |  Data and other attributes defined here:\n",
      " |  \n",
      " |  __pyx_vtable__ = <capsule object NULL>\n",
      "\n"
     ]
    }
   ],
   "source": [
    "help(sklearn.tree._tree.Tree)"
   ]
  },
  {
   "cell_type": "code",
   "execution_count": 349,
   "metadata": {},
   "outputs": [],
   "source": [
    "X = pd.read_pickle('IndependentVar')\n",
    "y = pd.read_pickle('TargetVariable')"
   ]
  },
  {
   "cell_type": "code",
   "execution_count": 350,
   "metadata": {},
   "outputs": [],
   "source": [
    "X_train, X_test, y_train, y_test = train_test_split(X, y, test_size=0.25, random_state=42)"
   ]
  },
  {
   "cell_type": "code",
   "execution_count": 351,
   "metadata": {
    "scrolled": true
   },
   "outputs": [
    {
     "data": {
      "text/plain": [
       "DecisionTreeClassifier(class_weight=None, criterion='gini', max_depth=4,\n",
       "            max_features=None, max_leaf_nodes=None,\n",
       "            min_impurity_decrease=0.0, min_impurity_split=None,\n",
       "            min_samples_leaf=15, min_samples_split=40,\n",
       "            min_weight_fraction_leaf=0.0, presort=False, random_state=None,\n",
       "            splitter='best')"
      ]
     },
     "execution_count": 351,
     "metadata": {},
     "output_type": "execute_result"
    }
   ],
   "source": [
    "clf = DecisionTreeClassifier(min_samples_leaf=15,max_depth=4,min_samples_split=40)\n",
    "clf.fit(X_train,y_train)"
   ]
  },
  {
   "cell_type": "code",
   "execution_count": 352,
   "metadata": {},
   "outputs": [
    {
     "data": {
      "text/plain": [
       "0.8263473053892215"
      ]
     },
     "execution_count": 352,
     "metadata": {},
     "output_type": "execute_result"
    }
   ],
   "source": [
    "y_predict=clf.predict(X_train)\n",
    "accuracy = accuracy_score(y_train, y_predict)\n",
    "accuracy  ## TRAINING ACCURACY"
   ]
  },
  {
   "cell_type": "code",
   "execution_count": 353,
   "metadata": {},
   "outputs": [
    {
     "data": {
      "text/plain": [
       "0.8026905829596412"
      ]
     },
     "execution_count": 353,
     "metadata": {},
     "output_type": "execute_result"
    }
   ],
   "source": [
    "test_predict = clf.predict(X_test)\n",
    "accuracy = accuracy_score(y_test , test_predict)\n",
    "accuracy"
   ]
  },
  {
   "cell_type": "code",
   "execution_count": 354,
   "metadata": {
    "scrolled": true
   },
   "outputs": [
    {
     "name": "stderr",
     "output_type": "stream",
     "text": [
      "C:\\Users\\sabhila1\\AppData\\Local\\Continuum\\anaconda3\\lib\\site-packages\\ipykernel_launcher.py:2: SettingWithCopyWarning: \n",
      "A value is trying to be set on a copy of a slice from a DataFrame.\n",
      "Try using .loc[row_indexer,col_indexer] = value instead\n",
      "\n",
      "See the caveats in the documentation: http://pandas.pydata.org/pandas-docs/stable/indexing.html#indexing-view-versus-copy\n",
      "  \n",
      "C:\\Users\\sabhila1\\AppData\\Local\\Continuum\\anaconda3\\lib\\site-packages\\ipykernel_launcher.py:3: SettingWithCopyWarning: \n",
      "A value is trying to be set on a copy of a slice from a DataFrame.\n",
      "Try using .loc[row_indexer,col_indexer] = value instead\n",
      "\n",
      "See the caveats in the documentation: http://pandas.pydata.org/pandas-docs/stable/indexing.html#indexing-view-versus-copy\n",
      "  This is separate from the ipykernel package so we can avoid doing imports until\n"
     ]
    }
   ],
   "source": [
    "pred = clf.predict_proba(X_train)\n",
    "X_train['prediction']=pred[:,1]\n",
    "X_test['prediction']=clf.predict_proba(X_test)[:,1]"
   ]
  },
  {
   "cell_type": "code",
   "execution_count": 355,
   "metadata": {},
   "outputs": [],
   "source": [
    "def count_leaf(tree1):\n",
    "    count = np.sum(np.logical_and(tree1.tree_.children_left==-1,tree1.tree_.children_right==-1))\n",
    "    return count"
   ]
  },
  {
   "cell_type": "code",
   "execution_count": 356,
   "metadata": {},
   "outputs": [],
   "source": [
    "def score_sum(tree,data):\n",
    "    array = tree.tree_.value[np.unique(tree.tree_.apply(np.array(data, dtype=np.float32)))]\n",
    "    sum_score = 0\n",
    "    for i in range(len(array)):\n",
    "        total = array[i][0][0]+array[i][0][1]\n",
    "        array[i][0][0]=np.divide(array[i][0][0],total)\n",
    "        array[i][0][1]=np.divide(array[i][0][1],total)\n",
    "        sum_score = sum_score + array[i][0][1]*array[i][0][1]\n",
    "    return sum_score"
   ]
  },
  {
   "cell_type": "code",
   "execution_count": 329,
   "metadata": {},
   "outputs": [],
   "source": [
    "array = clf.tree_.value[np.unique(clf.tree_.apply(np.array(X_train, dtype=np.float32)))]"
   ]
  },
  {
   "cell_type": "code",
   "execution_count": 330,
   "metadata": {
    "scrolled": true
   },
   "outputs": [
    {
     "data": {
      "text/plain": [
       "array([[[  2.,  49.]],\n",
       "\n",
       "       [[  0.,  53.]],\n",
       "\n",
       "       [[  2.,  14.]],\n",
       "\n",
       "       [[ 11.,  27.]],\n",
       "\n",
       "       [[ 27.,  26.]],\n",
       "\n",
       "       [[ 17.,   1.]],\n",
       "\n",
       "       [[  6.,  15.]],\n",
       "\n",
       "       [[ 14.,  12.]],\n",
       "\n",
       "       [[ 42.,  16.]],\n",
       "\n",
       "       [[214.,  35.]],\n",
       "\n",
       "       [[ 80.,   5.]]])"
      ]
     },
     "execution_count": 330,
     "metadata": {},
     "output_type": "execute_result"
    }
   ],
   "source": [
    "array"
   ]
  },
  {
   "cell_type": "code",
   "execution_count": 357,
   "metadata": {},
   "outputs": [],
   "source": [
    "def score_sum1(tree,data):\n",
    "    array = tree.tree_.value[np.unique(tree.tree_.apply(np.array(data, dtype=np.float32)))]\n",
    "    sum_score = 0\n",
    "    for i in range(len(array)):\n",
    "        sum_score = sum_score + array[i][0][0]*array[i][0][0]\n",
    "        \n",
    "    return sum_score"
   ]
  },
  {
   "cell_type": "code",
   "execution_count": 358,
   "metadata": {},
   "outputs": [],
   "source": [
    "X_train_const = X_train.copy()"
   ]
  },
  {
   "cell_type": "code",
   "execution_count": 359,
   "metadata": {},
   "outputs": [],
   "source": [
    "Training_AUC = []\n",
    "Testing_AUC = []"
   ]
  },
  {
   "cell_type": "code",
   "execution_count": 360,
   "metadata": {
    "scrolled": true
   },
   "outputs": [
    {
     "name": "stdout",
     "output_type": "stream",
     "text": [
      "AUC on training data set is: 0.892742511548169\n",
      "AUC on test data set is: 0.8559449941304713\n"
     ]
    },
    {
     "name": "stderr",
     "output_type": "stream",
     "text": [
      "C:\\Users\\sabhila1\\AppData\\Local\\Continuum\\anaconda3\\lib\\site-packages\\ipykernel_launcher.py:14: SettingWithCopyWarning: \n",
      "A value is trying to be set on a copy of a slice from a DataFrame.\n",
      "Try using .loc[row_indexer,col_indexer] = value instead\n",
      "\n",
      "See the caveats in the documentation: http://pandas.pydata.org/pandas-docs/stable/indexing.html#indexing-view-versus-copy\n",
      "  \n",
      "C:\\Users\\sabhila1\\AppData\\Local\\Continuum\\anaconda3\\lib\\site-packages\\ipykernel_launcher.py:21: SettingWithCopyWarning: \n",
      "A value is trying to be set on a copy of a slice from a DataFrame.\n",
      "Try using .loc[row_indexer,col_indexer] = value instead\n",
      "\n",
      "See the caveats in the documentation: http://pandas.pydata.org/pandas-docs/stable/indexing.html#indexing-view-versus-copy\n"
     ]
    }
   ],
   "source": [
    "# 1st Iteration Gamma = 0.01 , Lambda = 1\n",
    "clf2 = DecisionTreeRegressor(criterion = \"mse\",min_samples_leaf=15,max_depth=4,min_samples_split=40)\n",
    "\n",
    "train_errorn =y_train['Survived']-X_train['prediction']\n",
    "regularization_term = 0.01*count_leaf(clf)+0.5*0.05*score_sum(clf,X_train_const)\n",
    "train_errorn = train_errorn+regularization_term\n",
    "\n",
    "X_train2=X_train.drop(['prediction'],axis=1)\n",
    "X_test2=X_test.drop(['prediction'],axis=1)\n",
    "\n",
    "dt2 = clf2.fit(X_train2, train_errorn)\n",
    "train_error_pred = dt2.predict(X_train2)\n",
    "\n",
    "X_train['prediction']=(X_train['prediction']+0.5*train_error_pred)\n",
    "\n",
    "train_auc=roc_auc_score(y_train,X_train['prediction'])\n",
    "print(\"AUC on training data set is: \"+str(train_auc))\n",
    "Training_AUC.append(train_auc)\n",
    "\n",
    "test_error_pred = clf2.predict(X_test2)\n",
    "X_test['prediction']=(X_test['prediction']+0.5*test_error_pred)\n",
    "\n",
    "test_auc=roc_auc_score(y_test,X_test['prediction'])\n",
    "Testing_AUC.append(test_auc)\n",
    "\n",
    "print(\"AUC on test data set is: \"+str(test_auc))"
   ]
  },
  {
   "cell_type": "code",
   "execution_count": 361,
   "metadata": {
    "scrolled": true
   },
   "outputs": [
    {
     "name": "stderr",
     "output_type": "stream",
     "text": [
      "C:\\Users\\sabhila1\\AppData\\Local\\Continuum\\anaconda3\\lib\\site-packages\\ipykernel_launcher.py:12: SettingWithCopyWarning: \n",
      "A value is trying to be set on a copy of a slice from a DataFrame.\n",
      "Try using .loc[row_indexer,col_indexer] = value instead\n",
      "\n",
      "See the caveats in the documentation: http://pandas.pydata.org/pandas-docs/stable/indexing.html#indexing-view-versus-copy\n",
      "  if sys.path[0] == '':\n",
      "C:\\Users\\sabhila1\\AppData\\Local\\Continuum\\anaconda3\\lib\\site-packages\\ipykernel_launcher.py:19: SettingWithCopyWarning: \n",
      "A value is trying to be set on a copy of a slice from a DataFrame.\n",
      "Try using .loc[row_indexer,col_indexer] = value instead\n",
      "\n",
      "See the caveats in the documentation: http://pandas.pydata.org/pandas-docs/stable/indexing.html#indexing-view-versus-copy\n"
     ]
    },
    {
     "name": "stdout",
     "output_type": "stream",
     "text": [
      "AUC on training data set is: 0.8967665126910807\n",
      "AUC on test data set is: 0.8597182626194868\n",
      "AUC on training data set is: 0.8994380684794514\n",
      "AUC on test data set is: 0.8563642461848063\n",
      "AUC on training data set is: 0.9080527644173532\n",
      "AUC on test data set is: 0.844415562636257\n",
      "AUC on training data set is: 0.915748368969951\n",
      "AUC on test data set is: 0.8532198557772934\n",
      "AUC on training data set is: 0.9197009381399114\n",
      "AUC on test data set is: 0.8582089552238806\n",
      "AUC on training data set is: 0.9212629172817753\n",
      "AUC on test data set is: 0.8548968639946336\n",
      "AUC on training data set is: 0.9213105385970761\n",
      "AUC on test data set is: 0.8556515176924366\n",
      "AUC on training data set is: 0.9229439497118911\n",
      "AUC on test data set is: 0.8550645648163676\n",
      "AUC on training data set is: 0.9270346206962236\n",
      "AUC on test data set is: 0.8547291631728996\n",
      "AUC on training data set is: 0.9343730653840661\n",
      "AUC on test data set is: 0.8543518363239979\n",
      "AUC on training data set is: 0.9377017953235868\n",
      "AUC on test data set is: 0.854100285091397\n",
      "AUC on training data set is: 0.9384256393161579\n",
      "AUC on test data set is: 0.8527586785175248\n",
      "AUC on training data set is: 0.9406781275298823\n",
      "AUC on test data set is: 0.854603387556599\n",
      "AUC on training data set is: 0.9419353302538216\n",
      "AUC on test data set is: 0.8560288445413383\n",
      "AUC on training data set is: 0.9436687461307681\n",
      "AUC on test data set is: 0.854519537145732\n",
      "AUC on training data set is: 0.9456402685842183\n",
      "AUC on test data set is: 0.8558611437196043\n",
      "AUC on training data set is: 0.9463974474974999\n",
      "AUC on test data set is: 0.8540164346805299\n",
      "AUC on training data set is: 0.9481737225582171\n",
      "AUC on test data set is: 0.8525071272849237\n",
      "AUC on training data set is: 0.9483784942140103\n",
      "AUC on test data set is: 0.8536810330370619\n",
      "AUC on training data set is: 0.9485594552121529\n",
      "AUC on test data set is: 0.8541841355022639\n"
     ]
    }
   ],
   "source": [
    "for i in range(20):\n",
    "    train_errorn =y_train['Survived']-X_train['prediction']\n",
    "    regularization_term = 0.01*count_leaf(clf2)+0.5*0.05*score_sum1(clf2,X_train2)\n",
    "    train_errorn = train_errorn+regularization_term\n",
    "\n",
    "    X_train2=X_train.drop(['prediction'],axis=1)\n",
    "    X_test2=X_test.drop(['prediction'],axis=1)\n",
    "\n",
    "    dt2=clf2.fit(X_train2, train_errorn)\n",
    "    train_error_pred = dt2.predict(X_train2)\n",
    "\n",
    "    X_train['prediction']=(X_train['prediction']+0.5*train_error_pred)\n",
    "\n",
    "    train_auc=roc_auc_score(y_train,X_train['prediction'])\n",
    "    print(\"AUC on training data set is: \"+str(train_auc))\n",
    "    Training_AUC.append(train_auc)\n",
    "    \n",
    "    test_error_pred = clf2.predict(X_test2)\n",
    "    X_test['prediction']=(X_test['prediction']+0.5*test_error_pred)\n",
    "    \n",
    "    test_auc=roc_auc_score(y_test,X_test['prediction'])\n",
    "    print(\"AUC on test data set is: \"+str(test_auc))\n",
    "    Testing_AUC.append(test_auc)\n",
    "    "
   ]
  },
  {
   "cell_type": "code",
   "execution_count": 362,
   "metadata": {},
   "outputs": [
    {
     "data": {
      "image/png": "[encoded data removed]",
      "text/plain": [
       "<Figure size 432x288 with 1 Axes>"
      ]
     },
     "metadata": {},
     "output_type": "display_data"
    }
   ],
   "source": [
    "plt.plot(Training_AUC, label = 'Training AUC')\n",
    "plt.plot(Testing_AUC, label = 'Testing AUC')\n",
    "plt.legend(loc = 'best')\n",
    "plt.show()"
   ]
  }
 ],
 "metadata": {
  "kernelspec": {
   "display_name": "Python 3",
   "language": "python",
   "name": "python3"
  },
  "language_info": {
   "codemirror_mode": {
    "name": "ipython",
    "version": 3
   },
   "file_extension": ".py",
   "mimetype": "text/x-python",
   "name": "python",
   "nbconvert_exporter": "python",
   "pygments_lexer": "ipython3",
   "version": "3.6.5"
  }
 },
 "nbformat": 4,
 "nbformat_minor": 2
}
