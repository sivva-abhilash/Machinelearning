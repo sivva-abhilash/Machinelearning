{
 "cells": [
  {
   "cell_type": "markdown",
   "metadata": {},
   "source": [
    "## Importing modules and functions "
   ]
  },
  {
   "cell_type": "code",
   "execution_count": 1,
   "metadata": {},
   "outputs": [],
   "source": [
    "import pandas as pd\n",
    "from sklearn.linear_model import LogisticRegression\n",
    "import numpy as np\n",
    "from sklearn.metrics import accuracy_score  \n",
    "from sklearn.tree import DecisionTreeClassifier\n",
    "from sklearn import preprocessing\n",
    "from sklearn.ensemble import RandomForestClassifier\n",
    "from sklearn import svm\n",
    "from sklearn.svm import SVC\n",
    "from sklearn.model_selection import train_test_split\n",
    "from sklearn.feature_selection import chi2"
   ]
  },
  {
   "cell_type": "markdown",
   "metadata": {},
   "source": [
    "## Loading the dataset"
   ]
  },
  {
   "cell_type": "code",
   "execution_count": 2,
   "metadata": {},
   "outputs": [],
   "source": [
    "df=pd.read_csv('C:\\\\Users\\\\sabhila1\\\\Documents\\\\Titanic ML Problem\\\\all\\\\train.csv')"
   ]
  },
  {
   "cell_type": "code",
   "execution_count": 3,
   "metadata": {},
   "outputs": [],
   "source": [
    "X=df.copy()"
   ]
  },
  {
   "cell_type": "markdown",
   "metadata": {},
   "source": [
    "## Number of Null values present in each column"
   ]
  },
  {
   "cell_type": "code",
   "execution_count": 4,
   "metadata": {
    "scrolled": true
   },
   "outputs": [
    {
     "data": {
      "text/plain": [
       "PassengerId      0\n",
       "Survived         0\n",
       "Pclass           0\n",
       "Name             0\n",
       "Sex              0\n",
       "Age            177\n",
       "SibSp            0\n",
       "Parch            0\n",
       "Ticket           0\n",
       "Fare             0\n",
       "Cabin          687\n",
       "Embarked         2\n",
       "dtype: int64"
      ]
     },
     "execution_count": 4,
     "metadata": {},
     "output_type": "execute_result"
    }
   ],
   "source": [
    "X.isna().sum()"
   ]
  },
  {
   "cell_type": "markdown",
   "metadata": {},
   "source": [
    "## Count of total number of unique values in each column"
   ]
  },
  {
   "cell_type": "code",
   "execution_count": 5,
   "metadata": {},
   "outputs": [
    {
     "data": {
      "text/plain": [
       "PassengerId    891\n",
       "Survived         2\n",
       "Pclass           3\n",
       "Name           891\n",
       "Sex              2\n",
       "Age             88\n",
       "SibSp            7\n",
       "Parch            7\n",
       "Ticket         681\n",
       "Fare           248\n",
       "Cabin          147\n",
       "Embarked         3\n",
       "dtype: int64"
      ]
     },
     "execution_count": 5,
     "metadata": {},
     "output_type": "execute_result"
    }
   ],
   "source": [
    "X.nunique()"
   ]
  },
  {
   "cell_type": "markdown",
   "metadata": {},
   "source": [
    "## Dropping columns that are not needed"
   ]
  },
  {
   "cell_type": "code",
   "execution_count": 6,
   "metadata": {},
   "outputs": [],
   "source": [
    "X.drop(['Name'], axis = 1, inplace = True)  ## 891 UNIQUE VALUES\n",
    "X.drop(['PassengerId'], axis = 1, inplace = True)  ## 891 UNIQUE VALUES\n",
    "X.drop(['Ticket'], axis = 1, inplace = True)    ## 687 UNIQUE VALUES\n"
   ]
  },
  {
   "cell_type": "markdown",
   "metadata": {},
   "source": [
    "## Filling null values in dataframe "
   ]
  },
  {
   "cell_type": "code",
   "execution_count": 7,
   "metadata": {},
   "outputs": [],
   "source": [
    "X=X.fillna(X.mean())"
   ]
  },
  {
   "cell_type": "code",
   "execution_count": 8,
   "metadata": {
    "scrolled": true
   },
   "outputs": [],
   "source": [
    "X_dummy = pd.get_dummies(X)"
   ]
  },
  {
   "cell_type": "code",
   "execution_count": 9,
   "metadata": {
    "scrolled": true
   },
   "outputs": [
    {
     "data": {
      "text/plain": [
       "array(['Survived', 'Pclass', 'Age', 'SibSp', 'Parch', 'Fare',\n",
       "       'Sex_female', 'Sex_male', 'Cabin_A10', 'Cabin_A14', 'Cabin_A16',\n",
       "       'Cabin_A19', 'Cabin_A20', 'Cabin_A23', 'Cabin_A24', 'Cabin_A26',\n",
       "       'Cabin_A31', 'Cabin_A32', 'Cabin_A34', 'Cabin_A36', 'Cabin_A5',\n",
       "       'Cabin_A6', 'Cabin_A7', 'Cabin_B101', 'Cabin_B102', 'Cabin_B18',\n",
       "       'Cabin_B19', 'Cabin_B20', 'Cabin_B22', 'Cabin_B28', 'Cabin_B3',\n",
       "       'Cabin_B30', 'Cabin_B35', 'Cabin_B37', 'Cabin_B38', 'Cabin_B39',\n",
       "       'Cabin_B4', 'Cabin_B41', 'Cabin_B42', 'Cabin_B49', 'Cabin_B5',\n",
       "       'Cabin_B50', 'Cabin_B51 B53 B55', 'Cabin_B57 B59 B63 B66',\n",
       "       'Cabin_B58 B60', 'Cabin_B69', 'Cabin_B71', 'Cabin_B73',\n",
       "       'Cabin_B77', 'Cabin_B78', 'Cabin_B79', 'Cabin_B80',\n",
       "       'Cabin_B82 B84', 'Cabin_B86', 'Cabin_B94', 'Cabin_B96 B98',\n",
       "       'Cabin_C101', 'Cabin_C103', 'Cabin_C104', 'Cabin_C106',\n",
       "       'Cabin_C110', 'Cabin_C111', 'Cabin_C118', 'Cabin_C123',\n",
       "       'Cabin_C124', 'Cabin_C125', 'Cabin_C126', 'Cabin_C128',\n",
       "       'Cabin_C148', 'Cabin_C2', 'Cabin_C22 C26', 'Cabin_C23 C25 C27',\n",
       "       'Cabin_C30', 'Cabin_C32', 'Cabin_C45', 'Cabin_C46', 'Cabin_C47',\n",
       "       'Cabin_C49', 'Cabin_C50', 'Cabin_C52', 'Cabin_C54',\n",
       "       'Cabin_C62 C64', 'Cabin_C65', 'Cabin_C68', 'Cabin_C7', 'Cabin_C70',\n",
       "       'Cabin_C78', 'Cabin_C82', 'Cabin_C83', 'Cabin_C85', 'Cabin_C86',\n",
       "       'Cabin_C87', 'Cabin_C90', 'Cabin_C91', 'Cabin_C92', 'Cabin_C93',\n",
       "       'Cabin_C95', 'Cabin_C99', 'Cabin_D', 'Cabin_D10 D12', 'Cabin_D11',\n",
       "       'Cabin_D15', 'Cabin_D17', 'Cabin_D19', 'Cabin_D20', 'Cabin_D21',\n",
       "       'Cabin_D26', 'Cabin_D28', 'Cabin_D30', 'Cabin_D33', 'Cabin_D35',\n",
       "       'Cabin_D36', 'Cabin_D37', 'Cabin_D45', 'Cabin_D46', 'Cabin_D47',\n",
       "       'Cabin_D48', 'Cabin_D49', 'Cabin_D50', 'Cabin_D56', 'Cabin_D6',\n",
       "       'Cabin_D7', 'Cabin_D9', 'Cabin_E10', 'Cabin_E101', 'Cabin_E12',\n",
       "       'Cabin_E121', 'Cabin_E17', 'Cabin_E24', 'Cabin_E25', 'Cabin_E31',\n",
       "       'Cabin_E33', 'Cabin_E34', 'Cabin_E36', 'Cabin_E38', 'Cabin_E40',\n",
       "       'Cabin_E44', 'Cabin_E46', 'Cabin_E49', 'Cabin_E50', 'Cabin_E58',\n",
       "       'Cabin_E63', 'Cabin_E67', 'Cabin_E68', 'Cabin_E77', 'Cabin_E8',\n",
       "       'Cabin_F E69', 'Cabin_F G63', 'Cabin_F G73', 'Cabin_F2',\n",
       "       'Cabin_F33', 'Cabin_F38', 'Cabin_F4', 'Cabin_G6', 'Cabin_T',\n",
       "       'Embarked_C', 'Embarked_Q', 'Embarked_S'], dtype=object)"
      ]
     },
     "execution_count": 9,
     "metadata": {},
     "output_type": "execute_result"
    }
   ],
   "source": [
    "np.array(X_dummy.columns)"
   ]
  },
  {
   "cell_type": "code",
   "execution_count": 10,
   "metadata": {},
   "outputs": [],
   "source": [
    "X_dummy.corr().to_csv('correlation.csv')"
   ]
  },
  {
   "cell_type": "code",
   "execution_count": 11,
   "metadata": {},
   "outputs": [],
   "source": [
    "Y = X['Survived']\n",
    "X_dummy.drop(['Survived'],axis = 1, inplace = True)"
   ]
  },
  {
   "cell_type": "markdown",
   "metadata": {},
   "source": [
    "## Applying the model "
   ]
  },
  {
   "cell_type": "code",
   "execution_count": 12,
   "metadata": {},
   "outputs": [],
   "source": [
    "model = LogisticRegression()"
   ]
  },
  {
   "cell_type": "code",
   "execution_count": 13,
   "metadata": {},
   "outputs": [],
   "source": [
    "X_train, X_test, y_train, y_test = train_test_split(X_dummy, Y, test_size=0.33, random_state=42)"
   ]
  },
  {
   "cell_type": "code",
   "execution_count": 14,
   "metadata": {},
   "outputs": [
    {
     "data": {
      "text/plain": [
       "LogisticRegression(C=1.0, class_weight=None, dual=False, fit_intercept=True,\n",
       "          intercept_scaling=1, max_iter=100, multi_class='ovr', n_jobs=1,\n",
       "          penalty='l2', random_state=None, solver='liblinear', tol=0.0001,\n",
       "          verbose=0, warm_start=False)"
      ]
     },
     "execution_count": 14,
     "metadata": {},
     "output_type": "execute_result"
    }
   ],
   "source": [
    "model.fit(X_train,y_train)\n"
   ]
  },
  {
   "cell_type": "code",
   "execution_count": 15,
   "metadata": {},
   "outputs": [
    {
     "data": {
      "text/plain": [
       "0.8070469798657718"
      ]
     },
     "execution_count": 15,
     "metadata": {},
     "output_type": "execute_result"
    }
   ],
   "source": [
    "y_predict=model.predict(X_train)\n",
    "y_actual=np.array(y_train)\n",
    "accuracy = accuracy_score(y_actual, y_predict)\n",
    "accuracy"
   ]
  },
  {
   "cell_type": "code",
   "execution_count": 16,
   "metadata": {},
   "outputs": [
    {
     "data": {
      "text/plain": [
       "0.8101694915254237"
      ]
     },
     "execution_count": 16,
     "metadata": {},
     "output_type": "execute_result"
    }
   ],
   "source": [
    "y_predict=model.predict(X_test)\n",
    "y_actual=np.array(y_test)\n",
    "accuracy = accuracy_score(y_actual, y_predict)\n",
    "accuracy"
   ]
  },
  {
   "cell_type": "code",
   "execution_count": null,
   "metadata": {},
   "outputs": [],
   "source": []
  },
  {
   "cell_type": "markdown",
   "metadata": {},
   "source": [
    "## Feature Selection"
   ]
  },
  {
   "cell_type": "code",
   "execution_count": 18,
   "metadata": {},
   "outputs": [],
   "source": [
    "ch_val , p_val = chi2(X_train, y_train)"
   ]
  },
  {
   "cell_type": "code",
   "execution_count": 21,
   "metadata": {
    "scrolled": true
   },
   "outputs": [
    {
     "data": {
      "text/plain": [
       "array([1.67587941e+01, 1.08610206e+01, 4.55335381e+00, 4.87230976e+00,\n",
       "       2.77736187e+03, 1.08467163e+02, 5.72929115e+01, 5.93582888e-01,\n",
       "       5.93582888e-01, 1.68468468e+00, 5.93582888e-01,            nan,\n",
       "       1.68468468e+00, 5.93582888e-01, 1.68468468e+00,            nan,\n",
       "       5.93582888e-01,            nan, 5.93582888e-01,            nan,\n",
       "                  nan,            nan, 1.68468468e+00, 5.93582888e-01,\n",
       "       3.36936937e+00, 5.93582888e-01, 1.68468468e+00, 1.39133786e-01,\n",
       "       1.68468468e+00, 1.68468468e+00,            nan, 3.36936937e+00,\n",
       "       5.93582888e-01,            nan,            nan, 1.68468468e+00,\n",
       "       1.68468468e+00, 1.68468468e+00, 1.68468468e+00, 3.36936937e+00,\n",
       "       1.68468468e+00, 1.39133786e-01,            nan,            nan,\n",
       "                  nan, 5.93582888e-01, 1.68468468e+00, 3.36936937e+00,\n",
       "                  nan, 1.68468468e+00, 1.68468468e+00, 5.93582888e-01,\n",
       "                  nan, 5.93582888e-01, 3.36936937e+00, 1.68468468e+00,\n",
       "       1.68468468e+00,            nan,            nan,            nan,\n",
       "       5.93582888e-01, 5.93582888e-01, 1.68468468e+00, 5.93582888e-01,\n",
       "       3.36936937e+00,            nan, 5.93582888e-01,            nan,\n",
       "       1.39133786e-01, 1.18716578e+00, 2.78267572e-01, 5.93582888e-01,\n",
       "       1.68468468e+00,            nan, 5.93582888e-01, 1.68468468e+00,\n",
       "       5.93582888e-01, 1.68468468e+00,            nan, 1.68468468e+00,\n",
       "       1.68468468e+00, 1.39133786e-01, 5.93582888e-01, 1.68468468e+00,\n",
       "       1.68468468e+00, 5.93582888e-01,            nan, 1.39133786e-01,\n",
       "       1.68468468e+00,            nan, 5.93582888e-01, 1.68468468e+00,\n",
       "                  nan, 1.68468468e+00, 1.68468468e+00,            nan,\n",
       "       1.68468468e+00, 1.68468468e+00,            nan,            nan,\n",
       "                  nan, 1.68468468e+00,            nan, 1.68468468e+00,\n",
       "                  nan, 1.18716578e+00,            nan, 5.93582888e-01,\n",
       "       3.36936937e+00, 3.36936937e+00, 1.68468468e+00, 1.68468468e+00,\n",
       "       1.68468468e+00, 5.93582888e-01,            nan,            nan,\n",
       "       1.68468468e+00,            nan, 1.68468468e+00, 5.93582888e-01,\n",
       "                  nan, 1.68468468e+00, 1.68468468e+00, 5.05405405e+00,\n",
       "       1.68468468e+00, 3.36936937e+00, 1.68468468e+00, 3.36936937e+00,\n",
       "                  nan, 5.93582888e-01, 3.36936937e+00,            nan,\n",
       "                  nan,            nan, 1.68468468e+00, 1.39133786e-01,\n",
       "       5.93582888e-01,            nan, 1.68468468e+00, 5.93582888e-01,\n",
       "                  nan, 1.39133786e-01,            nan,            nan,\n",
       "       3.36936937e+00, 1.68468468e+00, 5.93582888e-01, 5.93582888e-01,\n",
       "       1.68468468e+00, 3.36936937e+00, 5.93582888e-01, 3.36936937e+00,\n",
       "       1.96720785e-02, 5.93582888e-01, 1.77797163e+01, 5.38940717e-03,\n",
       "       4.64204692e+00])"
      ]
     },
     "execution_count": 21,
     "metadata": {},
     "output_type": "execute_result"
    }
   ],
   "source": [
    "ch_val"
   ]
  },
  {
   "cell_type": "code",
   "execution_count": null,
   "metadata": {},
   "outputs": [],
   "source": []
  }
 ],
 "metadata": {
  "kernelspec": {
   "display_name": "Python 3",
   "language": "python",
   "name": "python3"
  },
  "language_info": {
   "codemirror_mode": {
    "name": "ipython",
    "version": 3
   },
   "file_extension": ".py",
   "mimetype": "text/x-python",
   "name": "python",
   "nbconvert_exporter": "python",
   "pygments_lexer": "ipython3",
   "version": "3.6.5"
  }
 },
 "nbformat": 4,
 "nbformat_minor": 2
}
